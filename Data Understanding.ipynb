{
 "cells": [
  {
   "cell_type": "markdown",
   "metadata": {},
   "source": [
    "# Data Understanding"
   ]
  },
  {
   "cell_type": "code",
   "execution_count": 1,
   "metadata": {},
   "outputs": [],
   "source": [
    "# Here are all the imports needed for this phase\n",
    "import pandas as pd\n",
    "import seaborn as sns\n",
    "import matplotlib.pyplot as plt\n",
    "\n",
    "import warnings\n",
    "warnings.filterwarnings('ignore')"
   ]
  },
  {
   "cell_type": "markdown",
   "metadata": {},
   "source": [
    "## Dataset identity card\n",
    "\n",
    "We use one csv file accessible from this [repository](https://github.com/fivethirtyeight/uber-tlc-foil-response/tree/master/uber-trip-data). We limit ourselves to the data for April 2014, which contains a sample of the races conducted during this period in New York City alone."
   ]
  },
  {
   "cell_type": "code",
   "execution_count": 2,
   "metadata": {},
   "outputs": [],
   "source": [
    "uber_df = pd.read_csv(\"https://raw.githubusercontent.com/fivethirtyeight/uber-tlc-foil-response/master/uber-trip-data/uber-raw-data-apr14.csv\")"
   ]
  },
  {
   "cell_type": "code",
   "execution_count": 3,
   "metadata": {},
   "outputs": [
    {
     "name": "stdout",
     "output_type": "stream",
     "text": [
      "<class 'pandas.core.frame.DataFrame'>\n",
      "RangeIndex: 564516 entries, 0 to 564515\n",
      "Data columns (total 4 columns):\n",
      "Date/Time    564516 non-null object\n",
      "Lat          564516 non-null float64\n",
      "Lon          564516 non-null float64\n",
      "Base         564516 non-null object\n",
      "dtypes: float64(2), object(2)\n",
      "memory usage: 17.2+ MB\n"
     ]
    }
   ],
   "source": [
    "uber_df.info()"
   ]
  },
  {
   "cell_type": "code",
   "execution_count": 4,
   "metadata": {},
   "outputs": [
    {
     "data": {
      "text/html": [
       "<div>\n",
       "<style scoped>\n",
       "    .dataframe tbody tr th:only-of-type {\n",
       "        vertical-align: middle;\n",
       "    }\n",
       "\n",
       "    .dataframe tbody tr th {\n",
       "        vertical-align: top;\n",
       "    }\n",
       "\n",
       "    .dataframe thead th {\n",
       "        text-align: right;\n",
       "    }\n",
       "</style>\n",
       "<table border=\"1\" class=\"dataframe\">\n",
       "  <thead>\n",
       "    <tr style=\"text-align: right;\">\n",
       "      <th></th>\n",
       "      <th>Date/Time</th>\n",
       "      <th>Lat</th>\n",
       "      <th>Lon</th>\n",
       "      <th>Base</th>\n",
       "    </tr>\n",
       "  </thead>\n",
       "  <tbody>\n",
       "    <tr>\n",
       "      <th>0</th>\n",
       "      <td>4/1/2014 0:11:00</td>\n",
       "      <td>40.7690</td>\n",
       "      <td>-73.9549</td>\n",
       "      <td>B02512</td>\n",
       "    </tr>\n",
       "    <tr>\n",
       "      <th>1</th>\n",
       "      <td>4/1/2014 0:17:00</td>\n",
       "      <td>40.7267</td>\n",
       "      <td>-74.0345</td>\n",
       "      <td>B02512</td>\n",
       "    </tr>\n",
       "    <tr>\n",
       "      <th>2</th>\n",
       "      <td>4/1/2014 0:21:00</td>\n",
       "      <td>40.7316</td>\n",
       "      <td>-73.9873</td>\n",
       "      <td>B02512</td>\n",
       "    </tr>\n",
       "    <tr>\n",
       "      <th>3</th>\n",
       "      <td>4/1/2014 0:28:00</td>\n",
       "      <td>40.7588</td>\n",
       "      <td>-73.9776</td>\n",
       "      <td>B02512</td>\n",
       "    </tr>\n",
       "    <tr>\n",
       "      <th>4</th>\n",
       "      <td>4/1/2014 0:33:00</td>\n",
       "      <td>40.7594</td>\n",
       "      <td>-73.9722</td>\n",
       "      <td>B02512</td>\n",
       "    </tr>\n",
       "  </tbody>\n",
       "</table>\n",
       "</div>"
      ],
      "text/plain": [
       "          Date/Time      Lat      Lon    Base\n",
       "0  4/1/2014 0:11:00  40.7690 -73.9549  B02512\n",
       "1  4/1/2014 0:17:00  40.7267 -74.0345  B02512\n",
       "2  4/1/2014 0:21:00  40.7316 -73.9873  B02512\n",
       "3  4/1/2014 0:28:00  40.7588 -73.9776  B02512\n",
       "4  4/1/2014 0:33:00  40.7594 -73.9722  B02512"
      ]
     },
     "execution_count": 4,
     "metadata": {},
     "output_type": "execute_result"
    }
   ],
   "source": [
    "uber_df.head()"
   ]
  },
  {
   "cell_type": "code",
   "execution_count": 5,
   "metadata": {},
   "outputs": [
    {
     "data": {
      "text/plain": [
       "Date/Time    False\n",
       "Lat          False\n",
       "Lon          False\n",
       "Base         False\n",
       "dtype: bool"
      ]
     },
     "execution_count": 5,
     "metadata": {},
     "output_type": "execute_result"
    }
   ],
   "source": [
    "uber_df.isnull().any()"
   ]
  },
  {
   "cell_type": "markdown",
   "metadata": {},
   "source": [
    "There are no missing values in this dataset."
   ]
  },
  {
   "cell_type": "markdown",
   "metadata": {},
   "source": [
    "## Field description\n",
    "\n",
    "This dataset contains 564 516 samples and 4 features : \n",
    "- __Date/Time__ corresponds to the date and time of the Uber pickup\n",
    "- __Lat__ is a numerical variable that represents the latitude of the Uber pickup\n",
    "- __Lon__ is a numerical feature containing the longitude of the Uber pickup\n",
    "- __Base__ is an identifier, it is the TLC (Taxi & Limousine Commission) base company code affiliated with the Uber pickup."
   ]
  },
  {
   "cell_type": "code",
   "execution_count": 6,
   "metadata": {},
   "outputs": [
    {
     "data": {
      "text/html": [
       "<div>\n",
       "<style scoped>\n",
       "    .dataframe tbody tr th:only-of-type {\n",
       "        vertical-align: middle;\n",
       "    }\n",
       "\n",
       "    .dataframe tbody tr th {\n",
       "        vertical-align: top;\n",
       "    }\n",
       "\n",
       "    .dataframe thead th {\n",
       "        text-align: right;\n",
       "    }\n",
       "</style>\n",
       "<table border=\"1\" class=\"dataframe\">\n",
       "  <thead>\n",
       "    <tr style=\"text-align: right;\">\n",
       "      <th></th>\n",
       "      <th>Date/Time</th>\n",
       "      <th>Lat</th>\n",
       "      <th>Lon</th>\n",
       "      <th>Base</th>\n",
       "    </tr>\n",
       "  </thead>\n",
       "  <tbody>\n",
       "    <tr>\n",
       "      <th>count</th>\n",
       "      <td>564516</td>\n",
       "      <td>564516.000000</td>\n",
       "      <td>564516.000000</td>\n",
       "      <td>564516</td>\n",
       "    </tr>\n",
       "    <tr>\n",
       "      <th>unique</th>\n",
       "      <td>41999</td>\n",
       "      <td>NaN</td>\n",
       "      <td>NaN</td>\n",
       "      <td>5</td>\n",
       "    </tr>\n",
       "    <tr>\n",
       "      <th>top</th>\n",
       "      <td>4/7/2014 20:21:00</td>\n",
       "      <td>NaN</td>\n",
       "      <td>NaN</td>\n",
       "      <td>B02682</td>\n",
       "    </tr>\n",
       "    <tr>\n",
       "      <th>freq</th>\n",
       "      <td>97</td>\n",
       "      <td>NaN</td>\n",
       "      <td>NaN</td>\n",
       "      <td>227808</td>\n",
       "    </tr>\n",
       "    <tr>\n",
       "      <th>mean</th>\n",
       "      <td>NaN</td>\n",
       "      <td>40.740005</td>\n",
       "      <td>-73.976817</td>\n",
       "      <td>NaN</td>\n",
       "    </tr>\n",
       "    <tr>\n",
       "      <th>std</th>\n",
       "      <td>NaN</td>\n",
       "      <td>0.036083</td>\n",
       "      <td>0.050426</td>\n",
       "      <td>NaN</td>\n",
       "    </tr>\n",
       "    <tr>\n",
       "      <th>min</th>\n",
       "      <td>NaN</td>\n",
       "      <td>40.072900</td>\n",
       "      <td>-74.773300</td>\n",
       "      <td>NaN</td>\n",
       "    </tr>\n",
       "    <tr>\n",
       "      <th>25%</th>\n",
       "      <td>NaN</td>\n",
       "      <td>40.722500</td>\n",
       "      <td>-73.997700</td>\n",
       "      <td>NaN</td>\n",
       "    </tr>\n",
       "    <tr>\n",
       "      <th>50%</th>\n",
       "      <td>NaN</td>\n",
       "      <td>40.742500</td>\n",
       "      <td>-73.984800</td>\n",
       "      <td>NaN</td>\n",
       "    </tr>\n",
       "    <tr>\n",
       "      <th>75%</th>\n",
       "      <td>NaN</td>\n",
       "      <td>40.760700</td>\n",
       "      <td>-73.970000</td>\n",
       "      <td>NaN</td>\n",
       "    </tr>\n",
       "    <tr>\n",
       "      <th>max</th>\n",
       "      <td>NaN</td>\n",
       "      <td>42.116600</td>\n",
       "      <td>-72.066600</td>\n",
       "      <td>NaN</td>\n",
       "    </tr>\n",
       "  </tbody>\n",
       "</table>\n",
       "</div>"
      ],
      "text/plain": [
       "                Date/Time            Lat            Lon    Base\n",
       "count              564516  564516.000000  564516.000000  564516\n",
       "unique              41999            NaN            NaN       5\n",
       "top     4/7/2014 20:21:00            NaN            NaN  B02682\n",
       "freq                   97            NaN            NaN  227808\n",
       "mean                  NaN      40.740005     -73.976817     NaN\n",
       "std                   NaN       0.036083       0.050426     NaN\n",
       "min                   NaN      40.072900     -74.773300     NaN\n",
       "25%                   NaN      40.722500     -73.997700     NaN\n",
       "50%                   NaN      40.742500     -73.984800     NaN\n",
       "75%                   NaN      40.760700     -73.970000     NaN\n",
       "max                   NaN      42.116600     -72.066600     NaN"
      ]
     },
     "execution_count": 6,
     "metadata": {},
     "output_type": "execute_result"
    }
   ],
   "source": [
    "uber_df.describe(include=\"all\")"
   ]
  },
  {
   "cell_type": "markdown",
   "metadata": {},
   "source": [
    "## Descriptive Statistics"
   ]
  },
  {
   "cell_type": "code",
   "execution_count": 7,
   "metadata": {},
   "outputs": [
    {
     "data": {
      "image/png": "[encoded data removed]",
      "text/plain": [
       "<Figure size 792x432 with 1 Axes>"
      ]
     },
     "metadata": {},
     "output_type": "display_data"
    }
   ],
   "source": [
    "pd.to_datetime(uber_df[\"Date/Time\"]).dt.day_name().value_counts().plot.pie(\n",
    "    radius=1.2, \n",
    "    autopct='%1.1f%%', \n",
    "    startangle=30,\n",
    "    figsize=(11, 6)\n",
    ")\n",
    "plt.legend('')\n",
    "plt.ylabel('')\n",
    "plt.title(\"Distribution of Uber pickups by day of the week\")\n",
    "plt.show()"
   ]
  },
  {
   "cell_type": "markdown",
   "metadata": {},
   "source": [
    "* As can be seen, the days of week can be grouped into two categories : \n",
    "    - Tuesday, Wednesday, Thursday, Friday with an average rate of 16% of weekly pickups\n",
    "    - Monday, Saturday, Sunday with an average of 11% of pickups\n",
    "* Wednesday is the day of the week with the highest number of pick-ups : almost 20% of the pick-ups in April."
   ]
  },
  {
   "cell_type": "code",
   "execution_count": 8,
   "metadata": {},
   "outputs": [
    {
     "data": {
      "image/png": "[encoded data removed]",
      "text/plain": [
       "<Figure size 1440x576 with 2 Axes>"
      ]
     },
     "metadata": {},
     "output_type": "display_data"
    }
   ],
   "source": [
    "plt.figure(figsize=(20,8))\n",
    "\n",
    "plt.subplot(211)\n",
    "sns.countplot(x=pd.to_datetime(uber_df[\"Date/Time\"]).dt.hour)\n",
    "plt.minorticks_on()\n",
    "plt.xlabel('')\n",
    "plt.title(\"Distribution of trips by time of day\")\n",
    "\n",
    "plt.subplot(212)\n",
    "sns.boxplot(\n",
    "    pd.to_datetime(uber_df[\"Date/Time\"]).dt.hour, \n",
    "    showmeans=True, \n",
    "    meanprops=dict(marker='D', markeredgecolor='black',markerfacecolor='firebrick', markersize=10)\n",
    ")\n",
    "plt.minorticks_on()\n",
    "\n",
    "plt.show()"
   ]
  },
  {
   "cell_type": "markdown",
   "metadata": {},
   "source": [
    "* 50% of pick-ups are made between 10am and 7pm.\n",
    "* 50% of trips are performed from 4pm to 11pm.\n",
    "* A quarter of all pick-ups are carried out between midnight and 10am.\n",
    "* It is possible to divide the time of day into several classes : \n",
    "    - from midnight to 5am\n",
    "    - from 6am to 8am,\n",
    "    - from 9am to 12pm,\n",
    "    - from 1pm to 5pm,\n",
    "    - from 6pm to 11pm."
   ]
  },
  {
   "cell_type": "code",
   "execution_count": 9,
   "metadata": {},
   "outputs": [],
   "source": [
    "def compute_percentage(start, end):\n",
    "    res = ((pd.to_datetime(uber_df[\"Date/Time\"]).dt.hour >= start) & (pd.to_datetime(uber_df[\"Date/Time\"]).dt.hour <= end)).value_counts() / uber_df.shape[0]\n",
    "    return (res * 100)[1]"
   ]
  },
  {
   "cell_type": "code",
   "execution_count": 10,
   "metadata": {},
   "outputs": [
    {
     "name": "stdout",
     "output_type": "stream",
     "text": [
      "8.01 % of trips are made between midnight and 5am.\n",
      "11.74 % of trips are made between 6am and 8am.\n",
      "13.11 % of trips are made between 9am and 12pm.\n",
      "30.57 % of trips are made between 1pm and 5pm.\n",
      "36.57 % of trips are made between 6pm and 11pm.\n"
     ]
    }
   ],
   "source": [
    "print('{:.2f} % of trips are made between midnight and {}am.'.format(compute_percentage(0, 5), 5))\n",
    "print('{:.2f} % of trips are made between {}am and {}am.'.format(compute_percentage(6, 8), 6, 8))\n",
    "print('{:.2f} % of trips are made between {}am and {}pm.'.format(compute_percentage(9, 12), 9, 12))\n",
    "print('{:.2f} % of trips are made between {}pm and {}pm.'.format(compute_percentage(13, 17), 1, 5))\n",
    "print('{:.2f} % of trips are made between {}pm and {}pm.'.format(compute_percentage(18, 23), 6, 11))"
   ]
  },
  {
   "cell_type": "markdown",
   "metadata": {},
   "source": [
    "## At this stage of analysis\n",
    "\n",
    "* We focused on the day and time of the trip alone to identify groups.\n",
    "* We have found two groups by day of pick-up and 5 groups by time of day. \n",
    "* In the Modeling and Evaluation phase, we will visualise on a map the pick-up locations of our data sample.\n",
    "* In the next phase (Data Preparation), we will format the data so that we can locate groups on a map according to days of the week and time of day."
   ]
  }
 ],
 "metadata": {
  "kernelspec": {
   "display_name": "Python 3",
   "language": "python",
   "name": "python3"
  },
  "language_info": {
   "codemirror_mode": {
    "name": "ipython",
    "version": 3
   },
   "file_extension": ".py",
   "mimetype": "text/x-python",
   "name": "python",
   "nbconvert_exporter": "python",
   "pygments_lexer": "ipython3",
   "version": "3.6.0"
  }
 },
 "nbformat": 4,
 "nbformat_minor": 2
}
