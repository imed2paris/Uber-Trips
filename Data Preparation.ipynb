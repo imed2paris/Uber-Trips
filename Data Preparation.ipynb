{
 "cells": [
  {
   "cell_type": "markdown",
   "metadata": {},
   "source": [
    "# Data Preparation"
   ]
  },
  {
   "cell_type": "code",
   "execution_count": 1,
   "metadata": {},
   "outputs": [],
   "source": [
    "# Here are all the imports needed for this phase\n",
    "import pandas as pd\n",
    "import matplotlib.pyplot as plt\n",
    "from sklearn.preprocessing import StandardScaler\n",
    "from joblib import dump\n",
    "\n",
    "import warnings\n",
    "warnings.filterwarnings('ignore')"
   ]
  },
  {
   "cell_type": "code",
   "execution_count": 2,
   "metadata": {},
   "outputs": [],
   "source": [
    "uber_df = pd.read_csv(\"https://raw.githubusercontent.com/fivethirtyeight/uber-tlc-foil-response/master/uber-trip-data/uber-raw-data-apr14.csv\")"
   ]
  },
  {
   "cell_type": "code",
   "execution_count": 3,
   "metadata": {},
   "outputs": [
    {
     "data": {
      "text/html": [
       "<div>\n",
       "<style scoped>\n",
       "    .dataframe tbody tr th:only-of-type {\n",
       "        vertical-align: middle;\n",
       "    }\n",
       "\n",
       "    .dataframe tbody tr th {\n",
       "        vertical-align: top;\n",
       "    }\n",
       "\n",
       "    .dataframe thead th {\n",
       "        text-align: right;\n",
       "    }\n",
       "</style>\n",
       "<table border=\"1\" class=\"dataframe\">\n",
       "  <thead>\n",
       "    <tr style=\"text-align: right;\">\n",
       "      <th></th>\n",
       "      <th>Date/Time</th>\n",
       "      <th>Lat</th>\n",
       "      <th>Lon</th>\n",
       "      <th>Base</th>\n",
       "    </tr>\n",
       "  </thead>\n",
       "  <tbody>\n",
       "    <tr>\n",
       "      <th>0</th>\n",
       "      <td>4/1/2014 0:11:00</td>\n",
       "      <td>40.7690</td>\n",
       "      <td>-73.9549</td>\n",
       "      <td>B02512</td>\n",
       "    </tr>\n",
       "    <tr>\n",
       "      <th>1</th>\n",
       "      <td>4/1/2014 0:17:00</td>\n",
       "      <td>40.7267</td>\n",
       "      <td>-74.0345</td>\n",
       "      <td>B02512</td>\n",
       "    </tr>\n",
       "    <tr>\n",
       "      <th>2</th>\n",
       "      <td>4/1/2014 0:21:00</td>\n",
       "      <td>40.7316</td>\n",
       "      <td>-73.9873</td>\n",
       "      <td>B02512</td>\n",
       "    </tr>\n",
       "    <tr>\n",
       "      <th>3</th>\n",
       "      <td>4/1/2014 0:28:00</td>\n",
       "      <td>40.7588</td>\n",
       "      <td>-73.9776</td>\n",
       "      <td>B02512</td>\n",
       "    </tr>\n",
       "    <tr>\n",
       "      <th>4</th>\n",
       "      <td>4/1/2014 0:33:00</td>\n",
       "      <td>40.7594</td>\n",
       "      <td>-73.9722</td>\n",
       "      <td>B02512</td>\n",
       "    </tr>\n",
       "  </tbody>\n",
       "</table>\n",
       "</div>"
      ],
      "text/plain": [
       "          Date/Time      Lat      Lon    Base\n",
       "0  4/1/2014 0:11:00  40.7690 -73.9549  B02512\n",
       "1  4/1/2014 0:17:00  40.7267 -74.0345  B02512\n",
       "2  4/1/2014 0:21:00  40.7316 -73.9873  B02512\n",
       "3  4/1/2014 0:28:00  40.7588 -73.9776  B02512\n",
       "4  4/1/2014 0:33:00  40.7594 -73.9722  B02512"
      ]
     },
     "execution_count": 3,
     "metadata": {},
     "output_type": "execute_result"
    }
   ],
   "source": [
    "uber_df.head()"
   ]
  },
  {
   "cell_type": "code",
   "execution_count": 4,
   "metadata": {},
   "outputs": [
    {
     "name": "stdout",
     "output_type": "stream",
     "text": [
      "<class 'pandas.core.frame.DataFrame'>\n",
      "RangeIndex: 564516 entries, 0 to 564515\n",
      "Data columns (total 4 columns):\n",
      "Date/Time    564516 non-null object\n",
      "Lat          564516 non-null float64\n",
      "Lon          564516 non-null float64\n",
      "Base         564516 non-null object\n",
      "dtypes: float64(2), object(2)\n",
      "memory usage: 17.2+ MB\n"
     ]
    }
   ],
   "source": [
    "uber_df.info()"
   ]
  },
  {
   "cell_type": "markdown",
   "metadata": {},
   "source": [
    "## Feature engineering\n",
    "### Creating variables\n",
    "\n",
    "In Data Understanding phase, we said that we could group the observations by day of the week and time of day. Therefore we are going to create features that take this aspect of the data into account."
   ]
  },
  {
   "cell_type": "code",
   "execution_count": 5,
   "metadata": {},
   "outputs": [],
   "source": [
    "uber_df[\"Date/Time\"] = pd.to_datetime(uber_df[\"Date/Time\"])"
   ]
  },
  {
   "cell_type": "code",
   "execution_count": 6,
   "metadata": {},
   "outputs": [
    {
     "name": "stdout",
     "output_type": "stream",
     "text": [
      "<class 'pandas.core.frame.DataFrame'>\n",
      "RangeIndex: 564516 entries, 0 to 564515\n",
      "Data columns (total 4 columns):\n",
      "Date/Time    564516 non-null datetime64[ns]\n",
      "Lat          564516 non-null float64\n",
      "Lon          564516 non-null float64\n",
      "Base         564516 non-null object\n",
      "dtypes: datetime64[ns](1), float64(2), object(1)\n",
      "memory usage: 17.2+ MB\n"
     ]
    }
   ],
   "source": [
    "uber_df.info()"
   ]
  },
  {
   "cell_type": "code",
   "execution_count": 7,
   "metadata": {},
   "outputs": [],
   "source": [
    "uber_df[\"day_of_week\"] = uber_df[\"Date/Time\"].dt.day_name()\n",
    "uber_df[\"time_of_day\"] = uber_df[\"Date/Time\"].dt.hour"
   ]
  },
  {
   "cell_type": "code",
   "execution_count": 8,
   "metadata": {},
   "outputs": [],
   "source": [
    "uber_df.loc[uber_df[\"day_of_week\"].isin([\"Saturday\", \"Sunday\", \"Monday\"]), \"long_weekend\"] = True\n",
    "uber_df.loc[~uber_df[\"day_of_week\"].isin([\"Saturday\", \"Sunday\", \"Monday\"]), \"long_weekend\"] = False"
   ]
  },
  {
   "cell_type": "code",
   "execution_count": 9,
   "metadata": {},
   "outputs": [],
   "source": [
    "uber_df.loc[uber_df[\"time_of_day\"].between(0, 5), \"period_of_day\"] = \"Night\"\n",
    "uber_df.loc[uber_df[\"time_of_day\"].between(6, 8), \"period_of_day\"] = \"Early morning\"\n",
    "uber_df.loc[uber_df[\"time_of_day\"].between(9, 12), \"period_of_day\"] = \"Morning\"\n",
    "uber_df.loc[uber_df[\"time_of_day\"].between(13, 17), \"period_of_day\"] = \"Afternoon\"\n",
    "uber_df.loc[uber_df[\"time_of_day\"].between(18, 23), \"period_of_day\"] = \"Evening\""
   ]
  },
  {
   "cell_type": "code",
   "execution_count": 10,
   "metadata": {},
   "outputs": [
    {
     "data": {
      "text/html": [
       "<div>\n",
       "<style scoped>\n",
       "    .dataframe tbody tr th:only-of-type {\n",
       "        vertical-align: middle;\n",
       "    }\n",
       "\n",
       "    .dataframe tbody tr th {\n",
       "        vertical-align: top;\n",
       "    }\n",
       "\n",
       "    .dataframe thead th {\n",
       "        text-align: right;\n",
       "    }\n",
       "</style>\n",
       "<table border=\"1\" class=\"dataframe\">\n",
       "  <thead>\n",
       "    <tr style=\"text-align: right;\">\n",
       "      <th></th>\n",
       "      <th>Date/Time</th>\n",
       "      <th>Lat</th>\n",
       "      <th>Lon</th>\n",
       "      <th>Base</th>\n",
       "      <th>day_of_week</th>\n",
       "      <th>time_of_day</th>\n",
       "      <th>long_weekend</th>\n",
       "      <th>period_of_day</th>\n",
       "    </tr>\n",
       "  </thead>\n",
       "  <tbody>\n",
       "    <tr>\n",
       "      <th>0</th>\n",
       "      <td>2014-04-01 00:11:00</td>\n",
       "      <td>40.7690</td>\n",
       "      <td>-73.9549</td>\n",
       "      <td>B02512</td>\n",
       "      <td>Tuesday</td>\n",
       "      <td>0</td>\n",
       "      <td>False</td>\n",
       "      <td>Night</td>\n",
       "    </tr>\n",
       "    <tr>\n",
       "      <th>1</th>\n",
       "      <td>2014-04-01 00:17:00</td>\n",
       "      <td>40.7267</td>\n",
       "      <td>-74.0345</td>\n",
       "      <td>B02512</td>\n",
       "      <td>Tuesday</td>\n",
       "      <td>0</td>\n",
       "      <td>False</td>\n",
       "      <td>Night</td>\n",
       "    </tr>\n",
       "    <tr>\n",
       "      <th>2</th>\n",
       "      <td>2014-04-01 00:21:00</td>\n",
       "      <td>40.7316</td>\n",
       "      <td>-73.9873</td>\n",
       "      <td>B02512</td>\n",
       "      <td>Tuesday</td>\n",
       "      <td>0</td>\n",
       "      <td>False</td>\n",
       "      <td>Night</td>\n",
       "    </tr>\n",
       "    <tr>\n",
       "      <th>3</th>\n",
       "      <td>2014-04-01 00:28:00</td>\n",
       "      <td>40.7588</td>\n",
       "      <td>-73.9776</td>\n",
       "      <td>B02512</td>\n",
       "      <td>Tuesday</td>\n",
       "      <td>0</td>\n",
       "      <td>False</td>\n",
       "      <td>Night</td>\n",
       "    </tr>\n",
       "    <tr>\n",
       "      <th>4</th>\n",
       "      <td>2014-04-01 00:33:00</td>\n",
       "      <td>40.7594</td>\n",
       "      <td>-73.9722</td>\n",
       "      <td>B02512</td>\n",
       "      <td>Tuesday</td>\n",
       "      <td>0</td>\n",
       "      <td>False</td>\n",
       "      <td>Night</td>\n",
       "    </tr>\n",
       "  </tbody>\n",
       "</table>\n",
       "</div>"
      ],
      "text/plain": [
       "            Date/Time      Lat      Lon    Base day_of_week  time_of_day  \\\n",
       "0 2014-04-01 00:11:00  40.7690 -73.9549  B02512     Tuesday            0   \n",
       "1 2014-04-01 00:17:00  40.7267 -74.0345  B02512     Tuesday            0   \n",
       "2 2014-04-01 00:21:00  40.7316 -73.9873  B02512     Tuesday            0   \n",
       "3 2014-04-01 00:28:00  40.7588 -73.9776  B02512     Tuesday            0   \n",
       "4 2014-04-01 00:33:00  40.7594 -73.9722  B02512     Tuesday            0   \n",
       "\n",
       "   long_weekend period_of_day  \n",
       "0         False         Night  \n",
       "1         False         Night  \n",
       "2         False         Night  \n",
       "3         False         Night  \n",
       "4         False         Night  "
      ]
     },
     "execution_count": 10,
     "metadata": {},
     "output_type": "execute_result"
    }
   ],
   "source": [
    "uber_df.head()"
   ]
  },
  {
   "cell_type": "markdown",
   "metadata": {},
   "source": [
    "## Data limitation\n",
    "### Deleting variables\n",
    "\n",
    "* We no longer need the variable __Date/Time__.\n",
    "* __Base__ is an identifier : it provides no relevant information."
   ]
  },
  {
   "cell_type": "code",
   "execution_count": 11,
   "metadata": {},
   "outputs": [],
   "source": [
    "uber_df = uber_df.drop([\"Date/Time\", \"Base\"], axis=1)"
   ]
  },
  {
   "cell_type": "code",
   "execution_count": 12,
   "metadata": {},
   "outputs": [
    {
     "data": {
      "text/html": [
       "<div>\n",
       "<style scoped>\n",
       "    .dataframe tbody tr th:only-of-type {\n",
       "        vertical-align: middle;\n",
       "    }\n",
       "\n",
       "    .dataframe tbody tr th {\n",
       "        vertical-align: top;\n",
       "    }\n",
       "\n",
       "    .dataframe thead th {\n",
       "        text-align: right;\n",
       "    }\n",
       "</style>\n",
       "<table border=\"1\" class=\"dataframe\">\n",
       "  <thead>\n",
       "    <tr style=\"text-align: right;\">\n",
       "      <th></th>\n",
       "      <th>Lat</th>\n",
       "      <th>Lon</th>\n",
       "      <th>day_of_week</th>\n",
       "      <th>time_of_day</th>\n",
       "      <th>long_weekend</th>\n",
       "      <th>period_of_day</th>\n",
       "    </tr>\n",
       "  </thead>\n",
       "  <tbody>\n",
       "    <tr>\n",
       "      <th>0</th>\n",
       "      <td>40.7690</td>\n",
       "      <td>-73.9549</td>\n",
       "      <td>Tuesday</td>\n",
       "      <td>0</td>\n",
       "      <td>False</td>\n",
       "      <td>Night</td>\n",
       "    </tr>\n",
       "    <tr>\n",
       "      <th>1</th>\n",
       "      <td>40.7267</td>\n",
       "      <td>-74.0345</td>\n",
       "      <td>Tuesday</td>\n",
       "      <td>0</td>\n",
       "      <td>False</td>\n",
       "      <td>Night</td>\n",
       "    </tr>\n",
       "    <tr>\n",
       "      <th>2</th>\n",
       "      <td>40.7316</td>\n",
       "      <td>-73.9873</td>\n",
       "      <td>Tuesday</td>\n",
       "      <td>0</td>\n",
       "      <td>False</td>\n",
       "      <td>Night</td>\n",
       "    </tr>\n",
       "    <tr>\n",
       "      <th>3</th>\n",
       "      <td>40.7588</td>\n",
       "      <td>-73.9776</td>\n",
       "      <td>Tuesday</td>\n",
       "      <td>0</td>\n",
       "      <td>False</td>\n",
       "      <td>Night</td>\n",
       "    </tr>\n",
       "    <tr>\n",
       "      <th>4</th>\n",
       "      <td>40.7594</td>\n",
       "      <td>-73.9722</td>\n",
       "      <td>Tuesday</td>\n",
       "      <td>0</td>\n",
       "      <td>False</td>\n",
       "      <td>Night</td>\n",
       "    </tr>\n",
       "  </tbody>\n",
       "</table>\n",
       "</div>"
      ],
      "text/plain": [
       "       Lat      Lon day_of_week  time_of_day  long_weekend period_of_day\n",
       "0  40.7690 -73.9549     Tuesday            0         False         Night\n",
       "1  40.7267 -74.0345     Tuesday            0         False         Night\n",
       "2  40.7316 -73.9873     Tuesday            0         False         Night\n",
       "3  40.7588 -73.9776     Tuesday            0         False         Night\n",
       "4  40.7594 -73.9722     Tuesday            0         False         Night"
      ]
     },
     "execution_count": 12,
     "metadata": {},
     "output_type": "execute_result"
    }
   ],
   "source": [
    "uber_df.head()"
   ]
  },
  {
   "cell_type": "markdown",
   "metadata": {},
   "source": [
    "### Deleting records\n",
    "\n",
    "* As the number of observations is too large to perform the clustering in an acceptable time, we will work on a sub-sample representing 5% of our data, i.e. more than 28000 samples.\n",
    "* Since we are interested in clustering pickups by day of the week and time of day, the sampling will be done in such a way that the proportions in the original data sample and the subsample are respected."
   ]
  },
  {
   "cell_type": "code",
   "execution_count": 13,
   "metadata": {},
   "outputs": [],
   "source": [
    "uber_sample_df = uber_df.groupby([\"day_of_week\", \"time_of_day\"], group_keys=False).apply(lambda x: x.sample(frac=0.05, random_state=42))"
   ]
  },
  {
   "cell_type": "code",
   "execution_count": 14,
   "metadata": {},
   "outputs": [
    {
     "data": {
      "image/png": "[encoded data removed]",
      "text/plain": [
       "<Figure size 1440x720 with 4 Axes>"
      ]
     },
     "metadata": {},
     "output_type": "display_data"
    }
   ],
   "source": [
    "plt.figure(figsize=(20,10))\n",
    "\n",
    "plt.subplot(221)\n",
    "plt.pie(uber_df.loc[uber_df[\"long_weekend\"] == False, \"period_of_day\"].value_counts(), \n",
    "        labels = uber_df.loc[uber_df[\"long_weekend\"] == False, \"period_of_day\"].value_counts().index,\n",
    "        autopct='%1.2f%%', \n",
    "        radius=1.1,\n",
    "       startangle=33)\n",
    "plt.legend('')\n",
    "plt.title(\"Distribution of weekday pickups in the population\", loc='center', pad=33)\n",
    "\n",
    "plt.subplot(222)\n",
    "plt.pie(uber_df.loc[uber_df[\"long_weekend\"] == True, \"period_of_day\"].value_counts(),\n",
    "        labels=uber_df.loc[uber_df[\"long_weekend\"] == True, \"period_of_day\"].value_counts().index,\n",
    "        autopct='%1.2f%%', \n",
    "        radius=1.1,\n",
    "       startangle=33)\n",
    "plt.legend('')\n",
    "plt.title(\"Distribution of weekend pickups in the population\", loc='center', pad=33)\n",
    "\n",
    "plt.subplot(223)\n",
    "plt.pie(uber_sample_df.loc[uber_sample_df[\"long_weekend\"] == False, \"period_of_day\"].value_counts(), \n",
    "        labels = uber_sample_df.loc[uber_sample_df[\"long_weekend\"] == False, \"period_of_day\"].value_counts().index,\n",
    "        autopct='%1.2f%%', \n",
    "        radius=1.1,\n",
    "       startangle=33)\n",
    "plt.legend('')\n",
    "plt.title(\"Distribution of weekday pickups in the sample\", loc='center', pad=33)\n",
    "\n",
    "plt.subplot(224)\n",
    "plt.pie(uber_sample_df.loc[uber_sample_df[\"long_weekend\"] == True, \"period_of_day\"].value_counts(),\n",
    "        labels=uber_sample_df.loc[uber_sample_df[\"long_weekend\"] == True, \"period_of_day\"].value_counts().index,\n",
    "        autopct='%1.2f%%', \n",
    "        radius=1.1,\n",
    "       startangle=33)\n",
    "plt.legend('')\n",
    "plt.title(\"Distribution of weekday pickups in the sample\", loc='center', pad=33)\n",
    "\n",
    "plt.show()"
   ]
  },
  {
   "cell_type": "markdown",
   "metadata": {},
   "source": [
    "## Codification\n",
    "\n",
    "We need to convert the categorical variables into numerical variables."
   ]
  },
  {
   "cell_type": "code",
   "execution_count": 15,
   "metadata": {},
   "outputs": [
    {
     "data": {
      "text/html": [
       "<div>\n",
       "<style scoped>\n",
       "    .dataframe tbody tr th:only-of-type {\n",
       "        vertical-align: middle;\n",
       "    }\n",
       "\n",
       "    .dataframe tbody tr th {\n",
       "        vertical-align: top;\n",
       "    }\n",
       "\n",
       "    .dataframe thead th {\n",
       "        text-align: right;\n",
       "    }\n",
       "</style>\n",
       "<table border=\"1\" class=\"dataframe\">\n",
       "  <thead>\n",
       "    <tr style=\"text-align: right;\">\n",
       "      <th></th>\n",
       "      <th>Lat</th>\n",
       "      <th>Lon</th>\n",
       "      <th>day_of_week</th>\n",
       "      <th>time_of_day</th>\n",
       "      <th>long_weekend</th>\n",
       "      <th>period_of_day</th>\n",
       "    </tr>\n",
       "  </thead>\n",
       "  <tbody>\n",
       "    <tr>\n",
       "      <th>166688</th>\n",
       "      <td>40.7524</td>\n",
       "      <td>-73.9753</td>\n",
       "      <td>Friday</td>\n",
       "      <td>0</td>\n",
       "      <td>False</td>\n",
       "      <td>Night</td>\n",
       "    </tr>\n",
       "    <tr>\n",
       "      <th>456867</th>\n",
       "      <td>40.7214</td>\n",
       "      <td>-73.9971</td>\n",
       "      <td>Friday</td>\n",
       "      <td>0</td>\n",
       "      <td>False</td>\n",
       "      <td>Night</td>\n",
       "    </tr>\n",
       "    <tr>\n",
       "      <th>280474</th>\n",
       "      <td>40.7632</td>\n",
       "      <td>-73.9717</td>\n",
       "      <td>Friday</td>\n",
       "      <td>0</td>\n",
       "      <td>False</td>\n",
       "      <td>Night</td>\n",
       "    </tr>\n",
       "    <tr>\n",
       "      <th>256618</th>\n",
       "      <td>40.7428</td>\n",
       "      <td>-73.9844</td>\n",
       "      <td>Friday</td>\n",
       "      <td>0</td>\n",
       "      <td>False</td>\n",
       "      <td>Night</td>\n",
       "    </tr>\n",
       "    <tr>\n",
       "      <th>49338</th>\n",
       "      <td>40.7298</td>\n",
       "      <td>-74.0102</td>\n",
       "      <td>Friday</td>\n",
       "      <td>0</td>\n",
       "      <td>False</td>\n",
       "      <td>Night</td>\n",
       "    </tr>\n",
       "  </tbody>\n",
       "</table>\n",
       "</div>"
      ],
      "text/plain": [
       "            Lat      Lon day_of_week  time_of_day  long_weekend period_of_day\n",
       "166688  40.7524 -73.9753      Friday            0         False         Night\n",
       "456867  40.7214 -73.9971      Friday            0         False         Night\n",
       "280474  40.7632 -73.9717      Friday            0         False         Night\n",
       "256618  40.7428 -73.9844      Friday            0         False         Night\n",
       "49338   40.7298 -74.0102      Friday            0         False         Night"
      ]
     },
     "execution_count": 15,
     "metadata": {},
     "output_type": "execute_result"
    }
   ],
   "source": [
    "uber_sample_df.head()"
   ]
  },
  {
   "cell_type": "code",
   "execution_count": 16,
   "metadata": {},
   "outputs": [],
   "source": [
    "uber_sample_categorical_df = uber_sample_df[[\"day_of_week\", \"long_weekend\", \"period_of_day\"]]"
   ]
  },
  {
   "cell_type": "code",
   "execution_count": 17,
   "metadata": {},
   "outputs": [],
   "source": [
    "uber_sample_categorical_df.loc[uber_sample_categorical_df[\"day_of_week\"] == \"Monday\", \"day_of_week\"] = 0\n",
    "uber_sample_categorical_df.loc[uber_sample_categorical_df[\"day_of_week\"] == \"Tuesday\", \"day_of_week\"] = 1\n",
    "uber_sample_categorical_df.loc[uber_sample_categorical_df[\"day_of_week\"] == \"Wednesday\", \"day_of_week\"] = 2\n",
    "uber_sample_categorical_df.loc[uber_sample_categorical_df[\"day_of_week\"] == \"Thursday\", \"day_of_week\"] = 3\n",
    "uber_sample_categorical_df.loc[uber_sample_categorical_df[\"day_of_week\"] == \"Friday\", \"day_of_week\"] = 4\n",
    "uber_sample_categorical_df.loc[uber_sample_categorical_df[\"day_of_week\"] == \"Saturday\", \"day_of_week\"] = 5\n",
    "uber_sample_categorical_df.loc[uber_sample_categorical_df[\"day_of_week\"] == \"Sunday\", \"day_of_week\"] = 6"
   ]
  },
  {
   "cell_type": "code",
   "execution_count": 18,
   "metadata": {},
   "outputs": [],
   "source": [
    "uber_sample_categorical_df.loc[uber_sample_categorical_df[\"long_weekend\"] == False, \"long_weekend\"] = 0\n",
    "uber_sample_categorical_df.loc[uber_sample_categorical_df[\"long_weekend\"] == True, \"long_weekend\"] = 1"
   ]
  },
  {
   "cell_type": "code",
   "execution_count": 19,
   "metadata": {},
   "outputs": [],
   "source": [
    "uber_sample_categorical_df.loc[uber_sample_categorical_df[\"period_of_day\"] == \"Night\", \"period_of_day\"] = 0\n",
    "uber_sample_categorical_df.loc[uber_sample_categorical_df[\"period_of_day\"] == \"Early morning\", \"period_of_day\"] = 1\n",
    "uber_sample_categorical_df.loc[uber_sample_categorical_df[\"period_of_day\"] == \"Morning\", \"period_of_day\"] = 2\n",
    "uber_sample_categorical_df.loc[uber_sample_categorical_df[\"period_of_day\"] == \"Afternoon\", \"period_of_day\"] = 3\n",
    "uber_sample_categorical_df.loc[uber_sample_categorical_df[\"period_of_day\"] == \"Evening\", \"period_of_day\"] = 4"
   ]
  },
  {
   "cell_type": "code",
   "execution_count": 20,
   "metadata": {},
   "outputs": [
    {
     "data": {
      "text/html": [
       "<div>\n",
       "<style scoped>\n",
       "    .dataframe tbody tr th:only-of-type {\n",
       "        vertical-align: middle;\n",
       "    }\n",
       "\n",
       "    .dataframe tbody tr th {\n",
       "        vertical-align: top;\n",
       "    }\n",
       "\n",
       "    .dataframe thead th {\n",
       "        text-align: right;\n",
       "    }\n",
       "</style>\n",
       "<table border=\"1\" class=\"dataframe\">\n",
       "  <thead>\n",
       "    <tr style=\"text-align: right;\">\n",
       "      <th></th>\n",
       "      <th>day_of_week</th>\n",
       "      <th>long_weekend</th>\n",
       "      <th>period_of_day</th>\n",
       "    </tr>\n",
       "  </thead>\n",
       "  <tbody>\n",
       "    <tr>\n",
       "      <th>166688</th>\n",
       "      <td>4</td>\n",
       "      <td>0</td>\n",
       "      <td>0</td>\n",
       "    </tr>\n",
       "    <tr>\n",
       "      <th>456867</th>\n",
       "      <td>4</td>\n",
       "      <td>0</td>\n",
       "      <td>0</td>\n",
       "    </tr>\n",
       "    <tr>\n",
       "      <th>280474</th>\n",
       "      <td>4</td>\n",
       "      <td>0</td>\n",
       "      <td>0</td>\n",
       "    </tr>\n",
       "    <tr>\n",
       "      <th>256618</th>\n",
       "      <td>4</td>\n",
       "      <td>0</td>\n",
       "      <td>0</td>\n",
       "    </tr>\n",
       "    <tr>\n",
       "      <th>49338</th>\n",
       "      <td>4</td>\n",
       "      <td>0</td>\n",
       "      <td>0</td>\n",
       "    </tr>\n",
       "  </tbody>\n",
       "</table>\n",
       "</div>"
      ],
      "text/plain": [
       "        day_of_week  long_weekend  period_of_day\n",
       "166688            4             0              0\n",
       "456867            4             0              0\n",
       "280474            4             0              0\n",
       "256618            4             0              0\n",
       "49338             4             0              0"
      ]
     },
     "execution_count": 20,
     "metadata": {},
     "output_type": "execute_result"
    }
   ],
   "source": [
    "uber_sample_categorical_df.head()"
   ]
  },
  {
   "cell_type": "markdown",
   "metadata": {},
   "source": [
    "## Standardization\n",
    "\n",
    "We normalize all the features."
   ]
  },
  {
   "cell_type": "code",
   "execution_count": 21,
   "metadata": {},
   "outputs": [],
   "source": [
    "numerical_scaler = StandardScaler()\n",
    "uber_numerical_df = pd.DataFrame(\n",
    "    numerical_scaler.fit_transform(uber_sample_df[[\"Lat\", \"Lon\", \"time_of_day\"]]), \n",
    "    columns=[\"latitude\", \"longitude\", \"time_of_day\"]\n",
    ")\n",
    "\n",
    "categorical_scaler = StandardScaler()\n",
    "uber_categorical_df = pd.DataFrame(\n",
    "    categorical_scaler.fit_transform(uber_sample_categorical_df), \n",
    "    columns=[\"day_of_week\", \"long_weekend\", \"period_of_day\"]\n",
    ")"
   ]
  },
  {
   "cell_type": "code",
   "execution_count": 22,
   "metadata": {},
   "outputs": [
    {
     "data": {
      "text/html": [
       "<div>\n",
       "<style scoped>\n",
       "    .dataframe tbody tr th:only-of-type {\n",
       "        vertical-align: middle;\n",
       "    }\n",
       "\n",
       "    .dataframe tbody tr th {\n",
       "        vertical-align: top;\n",
       "    }\n",
       "\n",
       "    .dataframe thead th {\n",
       "        text-align: right;\n",
       "    }\n",
       "</style>\n",
       "<table border=\"1\" class=\"dataframe\">\n",
       "  <thead>\n",
       "    <tr style=\"text-align: right;\">\n",
       "      <th></th>\n",
       "      <th>latitude</th>\n",
       "      <th>longitude</th>\n",
       "      <th>time_of_day</th>\n",
       "    </tr>\n",
       "  </thead>\n",
       "  <tbody>\n",
       "    <tr>\n",
       "      <th>0</th>\n",
       "      <td>0.346431</td>\n",
       "      <td>0.026384</td>\n",
       "      <td>-2.462367</td>\n",
       "    </tr>\n",
       "    <tr>\n",
       "      <th>1</th>\n",
       "      <td>-0.517802</td>\n",
       "      <td>-0.399180</td>\n",
       "      <td>-2.462367</td>\n",
       "    </tr>\n",
       "    <tr>\n",
       "      <th>2</th>\n",
       "      <td>0.647519</td>\n",
       "      <td>0.096661</td>\n",
       "      <td>-2.462367</td>\n",
       "    </tr>\n",
       "    <tr>\n",
       "      <th>3</th>\n",
       "      <td>0.078797</td>\n",
       "      <td>-0.151260</td>\n",
       "      <td>-2.462367</td>\n",
       "    </tr>\n",
       "    <tr>\n",
       "      <th>4</th>\n",
       "      <td>-0.283623</td>\n",
       "      <td>-0.654909</td>\n",
       "      <td>-2.462367</td>\n",
       "    </tr>\n",
       "  </tbody>\n",
       "</table>\n",
       "</div>"
      ],
      "text/plain": [
       "   latitude  longitude  time_of_day\n",
       "0  0.346431   0.026384    -2.462367\n",
       "1 -0.517802  -0.399180    -2.462367\n",
       "2  0.647519   0.096661    -2.462367\n",
       "3  0.078797  -0.151260    -2.462367\n",
       "4 -0.283623  -0.654909    -2.462367"
      ]
     },
     "execution_count": 22,
     "metadata": {},
     "output_type": "execute_result"
    }
   ],
   "source": [
    "uber_numerical_df.head()"
   ]
  },
  {
   "cell_type": "code",
   "execution_count": 23,
   "metadata": {},
   "outputs": [
    {
     "data": {
      "text/html": [
       "<div>\n",
       "<style scoped>\n",
       "    .dataframe tbody tr th:only-of-type {\n",
       "        vertical-align: middle;\n",
       "    }\n",
       "\n",
       "    .dataframe tbody tr th {\n",
       "        vertical-align: top;\n",
       "    }\n",
       "\n",
       "    .dataframe thead th {\n",
       "        text-align: right;\n",
       "    }\n",
       "</style>\n",
       "<table border=\"1\" class=\"dataframe\">\n",
       "  <thead>\n",
       "    <tr style=\"text-align: right;\">\n",
       "      <th></th>\n",
       "      <th>day_of_week</th>\n",
       "      <th>long_weekend</th>\n",
       "      <th>period_of_day</th>\n",
       "    </tr>\n",
       "  </thead>\n",
       "  <tbody>\n",
       "    <tr>\n",
       "      <th>0</th>\n",
       "      <td>0.622075</td>\n",
       "      <td>-0.710566</td>\n",
       "      <td>-2.161374</td>\n",
       "    </tr>\n",
       "    <tr>\n",
       "      <th>1</th>\n",
       "      <td>0.622075</td>\n",
       "      <td>-0.710566</td>\n",
       "      <td>-2.161374</td>\n",
       "    </tr>\n",
       "    <tr>\n",
       "      <th>2</th>\n",
       "      <td>0.622075</td>\n",
       "      <td>-0.710566</td>\n",
       "      <td>-2.161374</td>\n",
       "    </tr>\n",
       "    <tr>\n",
       "      <th>3</th>\n",
       "      <td>0.622075</td>\n",
       "      <td>-0.710566</td>\n",
       "      <td>-2.161374</td>\n",
       "    </tr>\n",
       "    <tr>\n",
       "      <th>4</th>\n",
       "      <td>0.622075</td>\n",
       "      <td>-0.710566</td>\n",
       "      <td>-2.161374</td>\n",
       "    </tr>\n",
       "  </tbody>\n",
       "</table>\n",
       "</div>"
      ],
      "text/plain": [
       "   day_of_week  long_weekend  period_of_day\n",
       "0     0.622075     -0.710566      -2.161374\n",
       "1     0.622075     -0.710566      -2.161374\n",
       "2     0.622075     -0.710566      -2.161374\n",
       "3     0.622075     -0.710566      -2.161374\n",
       "4     0.622075     -0.710566      -2.161374"
      ]
     },
     "execution_count": 23,
     "metadata": {},
     "output_type": "execute_result"
    }
   ],
   "source": [
    "uber_categorical_df.head()"
   ]
  },
  {
   "cell_type": "code",
   "execution_count": 24,
   "metadata": {},
   "outputs": [],
   "source": [
    "uber_sample_transformed_df = pd.merge(uber_numerical_df, uber_categorical_df, left_index=True, right_index=True)"
   ]
  },
  {
   "cell_type": "code",
   "execution_count": 25,
   "metadata": {},
   "outputs": [
    {
     "data": {
      "text/html": [
       "<div>\n",
       "<style scoped>\n",
       "    .dataframe tbody tr th:only-of-type {\n",
       "        vertical-align: middle;\n",
       "    }\n",
       "\n",
       "    .dataframe tbody tr th {\n",
       "        vertical-align: top;\n",
       "    }\n",
       "\n",
       "    .dataframe thead th {\n",
       "        text-align: right;\n",
       "    }\n",
       "</style>\n",
       "<table border=\"1\" class=\"dataframe\">\n",
       "  <thead>\n",
       "    <tr style=\"text-align: right;\">\n",
       "      <th></th>\n",
       "      <th>latitude</th>\n",
       "      <th>longitude</th>\n",
       "      <th>time_of_day</th>\n",
       "      <th>day_of_week</th>\n",
       "      <th>long_weekend</th>\n",
       "      <th>period_of_day</th>\n",
       "    </tr>\n",
       "  </thead>\n",
       "  <tbody>\n",
       "    <tr>\n",
       "      <th>0</th>\n",
       "      <td>0.346431</td>\n",
       "      <td>0.026384</td>\n",
       "      <td>-2.462367</td>\n",
       "      <td>0.622075</td>\n",
       "      <td>-0.710566</td>\n",
       "      <td>-2.161374</td>\n",
       "    </tr>\n",
       "    <tr>\n",
       "      <th>1</th>\n",
       "      <td>-0.517802</td>\n",
       "      <td>-0.399180</td>\n",
       "      <td>-2.462367</td>\n",
       "      <td>0.622075</td>\n",
       "      <td>-0.710566</td>\n",
       "      <td>-2.161374</td>\n",
       "    </tr>\n",
       "    <tr>\n",
       "      <th>2</th>\n",
       "      <td>0.647519</td>\n",
       "      <td>0.096661</td>\n",
       "      <td>-2.462367</td>\n",
       "      <td>0.622075</td>\n",
       "      <td>-0.710566</td>\n",
       "      <td>-2.161374</td>\n",
       "    </tr>\n",
       "    <tr>\n",
       "      <th>3</th>\n",
       "      <td>0.078797</td>\n",
       "      <td>-0.151260</td>\n",
       "      <td>-2.462367</td>\n",
       "      <td>0.622075</td>\n",
       "      <td>-0.710566</td>\n",
       "      <td>-2.161374</td>\n",
       "    </tr>\n",
       "    <tr>\n",
       "      <th>4</th>\n",
       "      <td>-0.283623</td>\n",
       "      <td>-0.654909</td>\n",
       "      <td>-2.462367</td>\n",
       "      <td>0.622075</td>\n",
       "      <td>-0.710566</td>\n",
       "      <td>-2.161374</td>\n",
       "    </tr>\n",
       "  </tbody>\n",
       "</table>\n",
       "</div>"
      ],
      "text/plain": [
       "   latitude  longitude  time_of_day  day_of_week  long_weekend  period_of_day\n",
       "0  0.346431   0.026384    -2.462367     0.622075     -0.710566      -2.161374\n",
       "1 -0.517802  -0.399180    -2.462367     0.622075     -0.710566      -2.161374\n",
       "2  0.647519   0.096661    -2.462367     0.622075     -0.710566      -2.161374\n",
       "3  0.078797  -0.151260    -2.462367     0.622075     -0.710566      -2.161374\n",
       "4 -0.283623  -0.654909    -2.462367     0.622075     -0.710566      -2.161374"
      ]
     },
     "execution_count": 25,
     "metadata": {},
     "output_type": "execute_result"
    }
   ],
   "source": [
    "uber_sample_transformed_df.head()"
   ]
  },
  {
   "cell_type": "markdown",
   "metadata": {},
   "source": [
    "## Next step : Modeling\n",
    "\n",
    "We need to export the data and the StandardScaler objects for the further process."
   ]
  },
  {
   "cell_type": "code",
   "execution_count": 26,
   "metadata": {},
   "outputs": [],
   "source": [
    "uber_sample_transformed_df.to_csv(\"uber_sample_transformed.csv\", index=False)"
   ]
  },
  {
   "cell_type": "code",
   "execution_count": 27,
   "metadata": {},
   "outputs": [
    {
     "data": {
      "text/plain": [
       "['categorical_scaler.joblib']"
      ]
     },
     "execution_count": 27,
     "metadata": {},
     "output_type": "execute_result"
    }
   ],
   "source": [
    "dump(numerical_scaler, \"numerical_scaler.joblib\")\n",
    "dump(categorical_scaler, \"categorical_scaler.joblib\")"
   ]
  }
 ],
 "metadata": {
  "kernelspec": {
   "display_name": "Python 3",
   "language": "python",
   "name": "python3"
  },
  "language_info": {
   "codemirror_mode": {
    "name": "ipython",
    "version": 3
   },
   "file_extension": ".py",
   "mimetype": "text/x-python",
   "name": "python",
   "nbconvert_exporter": "python",
   "pygments_lexer": "ipython3",
   "version": "3.6.0"
  }
 },
 "nbformat": 4,
 "nbformat_minor": 2
}
